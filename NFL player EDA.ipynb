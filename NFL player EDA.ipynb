{
 "cells": [
  {
   "cell_type": "markdown",
   "metadata": {},
   "source": [
    "## Exploratory data analysis of NFL player data.\n",
    "data source: http://nflsavant.com/about.php"
   ]
  },
  {
   "cell_type": "code",
   "execution_count": 11,
   "metadata": {
    "collapsed": true
   },
   "outputs": [],
   "source": [
    "import numpy as np\n",
    "import pandas as pd\n",
    "import matplotlib.pyplot as plt\n",
    "%matplotlib inline\n",
    "import seaborn as sns\n",
    "import time"
   ]
  },
  {
   "cell_type": "code",
   "execution_count": 3,
   "metadata": {
    "collapsed": true
   },
   "outputs": [],
   "source": [
    "players = pd.read_csv(\"players_2013-12-12.csv\")"
   ]
  },
  {
   "cell_type": "code",
   "execution_count": 4,
   "metadata": {},
   "outputs": [
    {
     "data": {
      "text/html": [
       "<div>\n",
       "<style>\n",
       "    .dataframe thead tr:only-child th {\n",
       "        text-align: right;\n",
       "    }\n",
       "\n",
       "    .dataframe thead th {\n",
       "        text-align: left;\n",
       "    }\n",
       "\n",
       "    .dataframe tbody tr th {\n",
       "        vertical-align: top;\n",
       "    }\n",
       "</style>\n",
       "<table border=\"1\" class=\"dataframe\">\n",
       "  <thead>\n",
       "    <tr style=\"text-align: right;\">\n",
       "      <th></th>\n",
       "      <th>name</th>\n",
       "      <th>first_name</th>\n",
       "      <th>last_name</th>\n",
       "      <th>birth_city</th>\n",
       "      <th>birth_state</th>\n",
       "      <th>birth_country</th>\n",
       "      <th>birth_date</th>\n",
       "      <th>college</th>\n",
       "      <th>draft_team</th>\n",
       "      <th>draft_round</th>\n",
       "      <th>...</th>\n",
       "      <th>draft_year</th>\n",
       "      <th>position</th>\n",
       "      <th>height</th>\n",
       "      <th>weight</th>\n",
       "      <th>death_date</th>\n",
       "      <th>death_city</th>\n",
       "      <th>death_state</th>\n",
       "      <th>death_country</th>\n",
       "      <th>year_start</th>\n",
       "      <th>year_end</th>\n",
       "    </tr>\n",
       "  </thead>\n",
       "  <tbody>\n",
       "    <tr>\n",
       "      <th>0</th>\n",
       "      <td>Isaako Aaitui</td>\n",
       "      <td>Isaako</td>\n",
       "      <td>Aaitui</td>\n",
       "      <td>NaN</td>\n",
       "      <td>NaN</td>\n",
       "      <td>NaN</td>\n",
       "      <td>1/25/1987</td>\n",
       "      <td>NaN</td>\n",
       "      <td>NaN</td>\n",
       "      <td>NaN</td>\n",
       "      <td>...</td>\n",
       "      <td>NaN</td>\n",
       "      <td>NT</td>\n",
       "      <td>4-Jun</td>\n",
       "      <td>315.0</td>\n",
       "      <td>NaN</td>\n",
       "      <td>NaN</td>\n",
       "      <td>NaN</td>\n",
       "      <td>NaN</td>\n",
       "      <td>2013</td>\n",
       "      <td>2013</td>\n",
       "    </tr>\n",
       "    <tr>\n",
       "      <th>1</th>\n",
       "      <td>Faye Abbott</td>\n",
       "      <td>Faye</td>\n",
       "      <td>Abbott</td>\n",
       "      <td>Clearport</td>\n",
       "      <td>OH</td>\n",
       "      <td>USA</td>\n",
       "      <td>1895-08-16</td>\n",
       "      <td>Syracuse</td>\n",
       "      <td>NaN</td>\n",
       "      <td>NaN</td>\n",
       "      <td>...</td>\n",
       "      <td>NaN</td>\n",
       "      <td>BB-FB-TB-QB-WB-</td>\n",
       "      <td>8-May</td>\n",
       "      <td>182.0</td>\n",
       "      <td>1/22/1965</td>\n",
       "      <td>Dayton</td>\n",
       "      <td>OH</td>\n",
       "      <td>NaN</td>\n",
       "      <td>1921</td>\n",
       "      <td>1929</td>\n",
       "    </tr>\n",
       "    <tr>\n",
       "      <th>2</th>\n",
       "      <td>Vince Abbott</td>\n",
       "      <td>Vince</td>\n",
       "      <td>Abbott</td>\n",
       "      <td>London</td>\n",
       "      <td>NaN</td>\n",
       "      <td>England</td>\n",
       "      <td>5/31/1958</td>\n",
       "      <td>Washington</td>\n",
       "      <td>NaN</td>\n",
       "      <td>NaN</td>\n",
       "      <td>...</td>\n",
       "      <td>NaN</td>\n",
       "      <td>K</td>\n",
       "      <td>11-May</td>\n",
       "      <td>207.0</td>\n",
       "      <td>NaN</td>\n",
       "      <td>NaN</td>\n",
       "      <td>NaN</td>\n",
       "      <td>NaN</td>\n",
       "      <td>1921</td>\n",
       "      <td>1929</td>\n",
       "    </tr>\n",
       "    <tr>\n",
       "      <th>3</th>\n",
       "      <td>Duke Abbruzzi</td>\n",
       "      <td>Duke</td>\n",
       "      <td>Abbruzzi</td>\n",
       "      <td>Warren</td>\n",
       "      <td>RI</td>\n",
       "      <td>USA</td>\n",
       "      <td>8/3/1917</td>\n",
       "      <td>Rhode Island</td>\n",
       "      <td>NaN</td>\n",
       "      <td>NaN</td>\n",
       "      <td>...</td>\n",
       "      <td>NaN</td>\n",
       "      <td>HB-DB</td>\n",
       "      <td>10-May</td>\n",
       "      <td>175.0</td>\n",
       "      <td>12/6/1982</td>\n",
       "      <td>Newport</td>\n",
       "      <td>RI</td>\n",
       "      <td>NaN</td>\n",
       "      <td>1921</td>\n",
       "      <td>1929</td>\n",
       "    </tr>\n",
       "    <tr>\n",
       "      <th>4</th>\n",
       "      <td>Karim Abdul-Jabbar</td>\n",
       "      <td>Karim</td>\n",
       "      <td>Abdul-Jabbar</td>\n",
       "      <td>Los Angeles</td>\n",
       "      <td>CA</td>\n",
       "      <td>USA</td>\n",
       "      <td>6/28/1974</td>\n",
       "      <td>UCLA</td>\n",
       "      <td>Miami Dolphins</td>\n",
       "      <td>3rd</td>\n",
       "      <td>...</td>\n",
       "      <td>1996.0</td>\n",
       "      <td>RB</td>\n",
       "      <td>10-May</td>\n",
       "      <td>194.0</td>\n",
       "      <td>NaN</td>\n",
       "      <td>NaN</td>\n",
       "      <td>NaN</td>\n",
       "      <td>NaN</td>\n",
       "      <td>1996</td>\n",
       "      <td>2000</td>\n",
       "    </tr>\n",
       "    <tr>\n",
       "      <th>5</th>\n",
       "      <td>Isa Abdul-Quddus</td>\n",
       "      <td>Isa</td>\n",
       "      <td>Abdul-Quddus</td>\n",
       "      <td>NaN</td>\n",
       "      <td>NaN</td>\n",
       "      <td>NaN</td>\n",
       "      <td>8/3/1989</td>\n",
       "      <td>Fordham</td>\n",
       "      <td>NaN</td>\n",
       "      <td>NaN</td>\n",
       "      <td>...</td>\n",
       "      <td>NaN</td>\n",
       "      <td>S</td>\n",
       "      <td>1-Jun</td>\n",
       "      <td>220.0</td>\n",
       "      <td>NaN</td>\n",
       "      <td>NaN</td>\n",
       "      <td>NaN</td>\n",
       "      <td>NaN</td>\n",
       "      <td>1996</td>\n",
       "      <td>2000</td>\n",
       "    </tr>\n",
       "    <tr>\n",
       "      <th>6</th>\n",
       "      <td>Hamza Abdullah</td>\n",
       "      <td>Hamza</td>\n",
       "      <td>Abdullah</td>\n",
       "      <td>Los Angeles</td>\n",
       "      <td>CA</td>\n",
       "      <td>USA</td>\n",
       "      <td>8/20/1983</td>\n",
       "      <td>Washington St.</td>\n",
       "      <td>Tampa Bay Buccaneers</td>\n",
       "      <td>7th</td>\n",
       "      <td>...</td>\n",
       "      <td>2005.0</td>\n",
       "      <td>DB</td>\n",
       "      <td>2-Jun</td>\n",
       "      <td>213.0</td>\n",
       "      <td>NaN</td>\n",
       "      <td>NaN</td>\n",
       "      <td>NaN</td>\n",
       "      <td>NaN</td>\n",
       "      <td>1996</td>\n",
       "      <td>2000</td>\n",
       "    </tr>\n",
       "    <tr>\n",
       "      <th>7</th>\n",
       "      <td>Husain Abdullah</td>\n",
       "      <td>Husain</td>\n",
       "      <td>Abdullah</td>\n",
       "      <td>Los Angeles</td>\n",
       "      <td>CA</td>\n",
       "      <td>USA</td>\n",
       "      <td>7/27/1985</td>\n",
       "      <td>Washington St.</td>\n",
       "      <td>NaN</td>\n",
       "      <td>NaN</td>\n",
       "      <td>...</td>\n",
       "      <td>NaN</td>\n",
       "      <td>DB</td>\n",
       "      <td>Jun-00</td>\n",
       "      <td>204.0</td>\n",
       "      <td>NaN</td>\n",
       "      <td>NaN</td>\n",
       "      <td>NaN</td>\n",
       "      <td>NaN</td>\n",
       "      <td>1996</td>\n",
       "      <td>2000</td>\n",
       "    </tr>\n",
       "    <tr>\n",
       "      <th>8</th>\n",
       "      <td>Khalid Abdullah</td>\n",
       "      <td>Khalid</td>\n",
       "      <td>Abdullah</td>\n",
       "      <td>Jacksonville</td>\n",
       "      <td>FL</td>\n",
       "      <td>USA</td>\n",
       "      <td>3/6/1979</td>\n",
       "      <td>Mars Hill</td>\n",
       "      <td>Cincinnati Bengals</td>\n",
       "      <td>5th</td>\n",
       "      <td>...</td>\n",
       "      <td>2003.0</td>\n",
       "      <td>LB</td>\n",
       "      <td>2-Jun</td>\n",
       "      <td>227.0</td>\n",
       "      <td>NaN</td>\n",
       "      <td>NaN</td>\n",
       "      <td>NaN</td>\n",
       "      <td>NaN</td>\n",
       "      <td>1996</td>\n",
       "      <td>2000</td>\n",
       "    </tr>\n",
       "    <tr>\n",
       "      <th>9</th>\n",
       "      <td>Rabih Abdullah</td>\n",
       "      <td>Rabih</td>\n",
       "      <td>Abdullah</td>\n",
       "      <td>Martinsville</td>\n",
       "      <td>VA</td>\n",
       "      <td>USA</td>\n",
       "      <td>4/27/1975</td>\n",
       "      <td>Lehigh</td>\n",
       "      <td>NaN</td>\n",
       "      <td>NaN</td>\n",
       "      <td>...</td>\n",
       "      <td>NaN</td>\n",
       "      <td>RB</td>\n",
       "      <td>Jun-00</td>\n",
       "      <td>220.0</td>\n",
       "      <td>NaN</td>\n",
       "      <td>NaN</td>\n",
       "      <td>NaN</td>\n",
       "      <td>NaN</td>\n",
       "      <td>1996</td>\n",
       "      <td>2000</td>\n",
       "    </tr>\n",
       "  </tbody>\n",
       "</table>\n",
       "<p>10 rows × 21 columns</p>\n",
       "</div>"
      ],
      "text/plain": [
       "                 name first_name     last_name    birth_city birth_state  \\\n",
       "0       Isaako Aaitui     Isaako        Aaitui           NaN         NaN   \n",
       "1         Faye Abbott       Faye        Abbott     Clearport          OH   \n",
       "2        Vince Abbott      Vince        Abbott        London         NaN   \n",
       "3       Duke Abbruzzi       Duke      Abbruzzi        Warren          RI   \n",
       "4  Karim Abdul-Jabbar      Karim  Abdul-Jabbar   Los Angeles          CA   \n",
       "5    Isa Abdul-Quddus        Isa  Abdul-Quddus           NaN         NaN   \n",
       "6      Hamza Abdullah      Hamza      Abdullah   Los Angeles          CA   \n",
       "7     Husain Abdullah     Husain      Abdullah   Los Angeles          CA   \n",
       "8     Khalid Abdullah     Khalid      Abdullah  Jacksonville          FL   \n",
       "9      Rabih Abdullah      Rabih      Abdullah  Martinsville          VA   \n",
       "\n",
       "  birth_country  birth_date         college            draft_team draft_round  \\\n",
       "0           NaN   1/25/1987             NaN                   NaN         NaN   \n",
       "1           USA  1895-08-16        Syracuse                   NaN         NaN   \n",
       "2       England   5/31/1958      Washington                   NaN         NaN   \n",
       "3           USA    8/3/1917    Rhode Island                   NaN         NaN   \n",
       "4           USA   6/28/1974            UCLA        Miami Dolphins         3rd   \n",
       "5           NaN    8/3/1989         Fordham                   NaN         NaN   \n",
       "6           USA   8/20/1983  Washington St.  Tampa Bay Buccaneers         7th   \n",
       "7           USA   7/27/1985  Washington St.                   NaN         NaN   \n",
       "8           USA    3/6/1979       Mars Hill    Cincinnati Bengals         5th   \n",
       "9           USA   4/27/1975          Lehigh                   NaN         NaN   \n",
       "\n",
       "     ...    draft_year         position  height weight  death_date death_city  \\\n",
       "0    ...           NaN               NT   4-Jun  315.0         NaN        NaN   \n",
       "1    ...           NaN  BB-FB-TB-QB-WB-   8-May  182.0   1/22/1965     Dayton   \n",
       "2    ...           NaN                K  11-May  207.0         NaN        NaN   \n",
       "3    ...           NaN            HB-DB  10-May  175.0   12/6/1982    Newport   \n",
       "4    ...        1996.0               RB  10-May  194.0         NaN        NaN   \n",
       "5    ...           NaN                S   1-Jun  220.0         NaN        NaN   \n",
       "6    ...        2005.0               DB   2-Jun  213.0         NaN        NaN   \n",
       "7    ...           NaN               DB  Jun-00  204.0         NaN        NaN   \n",
       "8    ...        2003.0               LB   2-Jun  227.0         NaN        NaN   \n",
       "9    ...           NaN               RB  Jun-00  220.0         NaN        NaN   \n",
       "\n",
       "  death_state death_country year_start  year_end  \n",
       "0         NaN           NaN       2013      2013  \n",
       "1          OH           NaN       1921      1929  \n",
       "2         NaN           NaN       1921      1929  \n",
       "3          RI           NaN       1921      1929  \n",
       "4         NaN           NaN       1996      2000  \n",
       "5         NaN           NaN       1996      2000  \n",
       "6         NaN           NaN       1996      2000  \n",
       "7         NaN           NaN       1996      2000  \n",
       "8         NaN           NaN       1996      2000  \n",
       "9         NaN           NaN       1996      2000  \n",
       "\n",
       "[10 rows x 21 columns]"
      ]
     },
     "execution_count": 4,
     "metadata": {},
     "output_type": "execute_result"
    }
   ],
   "source": [
    "players.head(10)"
   ]
  },
  {
   "cell_type": "code",
   "execution_count": 23,
   "metadata": {},
   "outputs": [
    {
     "data": {
      "text/plain": [
       "(23733, 21)"
      ]
     },
     "execution_count": 23,
     "metadata": {},
     "output_type": "execute_result"
    }
   ],
   "source": [
    "players.shape #"
   ]
  },
  {
   "cell_type": "markdown",
   "metadata": {},
   "source": [
    "## Some questions I'll use to start exploring the data:\n",
    "+ Where do NFL players come from? (states and schools)\n",
    "+ What are the pound-for-pound best schools for getting into the NFL?\n",
    "+ What is the average career length of an NFL player?\n",
    "+ Has the career length increased/decreased over time?\n",
    "+ How does position affect career length?\n",
    "+ Does draft pick have any affect on this?\n"
   ]
  },
  {
   "cell_type": "markdown",
   "metadata": {},
   "source": [
    "Where do players come from:"
   ]
  },
  {
   "cell_type": "code",
   "execution_count": 5,
   "metadata": {},
   "outputs": [
    {
     "data": {
      "text/plain": [
       "<matplotlib.axes._subplots.AxesSubplot at 0x1129180b8>"
      ]
     },
     "execution_count": 5,
     "metadata": {},
     "output_type": "execute_result"
    },
    {
     "data": {
      "image/png": "[encoded data removed]",
      "text/plain": [
       "<matplotlib.figure.Figure at 0x1129187b8>"
      ]
     },
     "metadata": {},
     "output_type": "display_data"
    }
   ],
   "source": [
    "players_by_state = players.groupby(players.birth_state).size() \n",
    "players_by_state.sort_values(ascending=False).plot(kind='bar', figsize=(10,6))"
   ]
  },
  {
   "cell_type": "markdown",
   "metadata": {},
   "source": [
    "Add a new column for career length:"
   ]
  },
  {
   "cell_type": "code",
   "execution_count": 9,
   "metadata": {},
   "outputs": [
    {
     "data": {
      "text/plain": [
       "0    0\n",
       "1    8\n",
       "2    8\n",
       "3    8\n",
       "4    4\n",
       "Name: career_length, dtype: int64"
      ]
     },
     "execution_count": 9,
     "metadata": {},
     "output_type": "execute_result"
    }
   ],
   "source": [
    "players['career_length'] = players.year_end - players.year_start \n",
    "players.career_length.head()"
   ]
  },
  {
   "cell_type": "markdown",
   "metadata": {},
   "source": [
    "What's the mean career length for an NFL player?"
   ]
  },
  {
   "cell_type": "code",
   "execution_count": 10,
   "metadata": {},
   "outputs": [
    {
     "data": {
      "text/plain": [
       "3.1836683099481733"
      ]
     },
     "execution_count": 10,
     "metadata": {},
     "output_type": "execute_result"
    }
   ],
   "source": [
    "players.career_length.mean()"
   ]
  },
  {
   "cell_type": "markdown",
   "metadata": {},
   "source": [
    "Let's look at a few visuals to get a better idea of what's happenning. "
   ]
  },
  {
   "cell_type": "code",
   "execution_count": 9,
   "metadata": {},
   "outputs": [
    {
     "data": {
      "image/png": "[encoded data removed]",
      "text/plain": [
       "<matplotlib.figure.Figure at 0x110a1b1d0>"
      ]
     },
     "metadata": {},
     "output_type": "display_data"
    }
   ],
   "source": [
    "career_length = players.groupby('career_length').size().plot(kind='bar')"
   ]
  },
  {
   "cell_type": "code",
   "execution_count": 12,
   "metadata": {},
   "outputs": [
    {
     "data": {
      "text/plain": [
       "<matplotlib.axes._subplots.AxesSubplot at 0x10676a710>"
      ]
     },
     "execution_count": 12,
     "metadata": {},
     "output_type": "execute_result"
    },
    {
     "data": {
      "image/png": "[encoded data removed]",
      "text/plain": [
       "<matplotlib.figure.Figure at 0x10f414cf8>"
      ]
     },
     "metadata": {},
     "output_type": "display_data"
    }
   ],
   "source": [
    "sns.kdeplot(players.career_length)"
   ]
  },
  {
   "cell_type": "code",
   "execution_count": 13,
   "metadata": {},
   "outputs": [
    {
     "data": {
      "text/plain": [
       "<matplotlib.axes._subplots.AxesSubplot at 0x11135cfd0>"
      ]
     },
     "execution_count": 13,
     "metadata": {},
     "output_type": "execute_result"
    },
    {
     "data": {
      "image/png": "[encoded data removed]",
      "text/plain": [
       "<matplotlib.figure.Figure at 0x1116cec18>"
      ]
     },
     "metadata": {},
     "output_type": "display_data"
    }
   ],
   "source": [
    "sns.boxplot(players.career_length)"
   ]
  },
  {
   "cell_type": "code",
   "execution_count": 51,
   "metadata": {},
   "outputs": [
    {
     "data": {
      "text/plain": [
       "<matplotlib.axes._subplots.AxesSubplot at 0x1154671d0>"
      ]
     },
     "execution_count": 51,
     "metadata": {},
     "output_type": "execute_result"
    },
    {
     "data": {
      "image/png": "[encoded data removed]",
      "text/plain": [
       "<matplotlib.figure.Figure at 0x115479240>"
      ]
     },
     "metadata": {},
     "output_type": "display_data"
    }
   ],
   "source": [
    "sns.distplot(players.career_length)"
   ]
  },
  {
   "cell_type": "code",
   "execution_count": 54,
   "metadata": {},
   "outputs": [
    {
     "data": {
      "text/plain": [
       "<matplotlib.axes._subplots.AxesSubplot at 0x1155ebba8>"
      ]
     },
     "execution_count": 54,
     "metadata": {},
     "output_type": "execute_result"
    },
    {
     "data": {
      "image/png": "[encoded data removed]",
      "text/plain": [
       "<matplotlib.figure.Figure at 0x115fb4898>"
      ]
     },
     "metadata": {},
     "output_type": "display_data"
    }
   ],
   "source": [
    "career_by_year = players.groupby('year_start')['career_length'].mean()\n",
    "career_by_year.plot()"
   ]
  },
  {
   "cell_type": "markdown",
   "metadata": {},
   "source": [
    "Does this work? Should it be a mean value, or does the trend line still accurately represent things?"
   ]
  },
  {
   "cell_type": "code",
   "execution_count": 55,
   "metadata": {},
   "outputs": [
    {
     "data": {
      "text/plain": [
       "<matplotlib.axes._subplots.AxesSubplot at 0x117160470>"
      ]
     },
     "execution_count": 55,
     "metadata": {},
     "output_type": "execute_result"
    },
    {
     "data": {
      "image/png": "[encoded data removed]",
      "text/plain": [
       "<matplotlib.figure.Figure at 0x115481a58>"
      ]
     },
     "metadata": {},
     "output_type": "display_data"
    }
   ],
   "source": [
    "sns.regplot(x=\"year_start\", y=\"career_length\", data=players)"
   ]
  },
  {
   "cell_type": "markdown",
   "metadata": {},
   "source": [
    "From these two basic plots we can see slight trend to longer careers. However, I think we should consider the NFL really starting with the first Super Bowl."
   ]
  },
  {
   "cell_type": "code",
   "execution_count": 57,
   "metadata": {},
   "outputs": [
    {
     "data": {
      "text/plain": [
       "<matplotlib.axes._subplots.AxesSubplot at 0x117232128>"
      ]
     },
     "execution_count": 57,
     "metadata": {},
     "output_type": "execute_result"
    },
    {
     "data": {
      "image/png": "[encoded data removed]",
      "text/plain": [
       "<matplotlib.figure.Figure at 0x115479630>"
      ]
     },
     "metadata": {},
     "output_type": "display_data"
    }
   ],
   "source": [
    "sns.regplot(x=\"year_start\", y=\"career_length\", data=players[players.year_start > 1967]) # first super bowl"
   ]
  },
  {
   "cell_type": "markdown",
   "metadata": {},
   "source": [
    "A couple interesting observations so far:\n",
    "+ We see the majority of the players are in the NFL for less than a year. (likely cut, briefly free agents, injured, don't make the team). It would be interesting to gain more insight here.\n",
    "+ There are some outliers with almost 7 times the mean! Probably big line men and quarter backs. A positional break down with attention to the outliers will be very interesting.\n",
    "+ There's a little bump at 15 years. Seems... Odd? \n",
    "+ Career length from the 1920s until now seemed to be increasing. However, when looking from the first Super Bowl onwards (1967-2013), career length seems to be on the decline. \n"
   ]
  },
  {
   "cell_type": "code",
   "execution_count": null,
   "metadata": {
    "collapsed": true
   },
   "outputs": [],
   "source": []
  },
  {
   "cell_type": "code",
   "execution_count": null,
   "metadata": {
    "collapsed": true
   },
   "outputs": [],
   "source": []
  },
  {
   "cell_type": "code",
   "execution_count": null,
   "metadata": {
    "collapsed": true
   },
   "outputs": [],
   "source": []
  },
  {
   "cell_type": "code",
   "execution_count": null,
   "metadata": {
    "collapsed": true
   },
   "outputs": [],
   "source": []
  },
  {
   "cell_type": "markdown",
   "metadata": {
    "collapsed": true
   },
   "source": [
    "TODO:\n",
    "+ players by state normalized by state population (state pop csv?\n",
    "+ career length by position\n",
    "+ careeer length by draft position.\n",
    "\n",
    "\n",
    "How to deal with position when given de-be-etc\n",
    "detecting outliers with box plot?\n",
    "get_dummies(): 0 or 1 for \n",
    "hot 1 encoding of dummy variables. melt data"
   ]
  },
  {
   "cell_type": "code",
   "execution_count": null,
   "metadata": {
    "collapsed": true
   },
   "outputs": [],
   "source": []
  },
  {
   "cell_type": "code",
   "execution_count": null,
   "metadata": {
    "collapsed": true
   },
   "outputs": [],
   "source": []
  },
  {
   "cell_type": "code",
   "execution_count": null,
   "metadata": {
    "collapsed": true
   },
   "outputs": [],
   "source": []
  },
  {
   "cell_type": "code",
   "execution_count": null,
   "metadata": {
    "collapsed": true
   },
   "outputs": [],
   "source": []
  },
  {
   "cell_type": "code",
   "execution_count": null,
   "metadata": {
    "collapsed": true
   },
   "outputs": [],
   "source": []
  },
  {
   "cell_type": "code",
   "execution_count": null,
   "metadata": {
    "collapsed": true
   },
   "outputs": [],
   "source": []
  },
  {
   "cell_type": "code",
   "execution_count": null,
   "metadata": {
    "collapsed": true
   },
   "outputs": [],
   "source": []
  },
  {
   "cell_type": "code",
   "execution_count": null,
   "metadata": {
    "collapsed": true
   },
   "outputs": [],
   "source": []
  }
 ],
 "metadata": {
  "kernelspec": {
   "display_name": "Python 3",
   "language": "python",
   "name": "python3"
  },
  "language_info": {
   "codemirror_mode": {
    "name": "ipython",
    "version": 3
   },
   "file_extension": ".py",
   "mimetype": "text/x-python",
   "name": "python",
   "nbconvert_exporter": "python",
   "pygments_lexer": "ipython3",
   "version": "3.6.1"
  }
 },
 "nbformat": 4,
 "nbformat_minor": 2
}
